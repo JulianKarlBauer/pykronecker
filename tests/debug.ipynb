{
 "cells": [
  {
   "cell_type": "code",
   "execution_count": 1,
   "metadata": {
    "collapsed": true,
    "pycharm": {
     "name": "#%%\n"
    }
   },
   "outputs": [],
   "source": [
    "from pykronecker.base import KroneckerOperator\n",
    "from pykronecker.operators import KroneckerProduct, KroneckerSum, KroneckerDiag\n",
    "from pykronecker.composite import OperatorProduct, OperatorSum\n",
    "from pykronecker.block import KroneckerBlock, KroneckerBlockDiag"
   ]
  },
  {
   "cell_type": "code",
   "execution_count": 9,
   "outputs": [],
   "source": [
    "import numpy as np\n",
    "np.set_printoptions(precision=3, linewidth=500, threshold=500, suppress=True, edgeitems=5)\n"
   ],
   "metadata": {
    "collapsed": false,
    "pycharm": {
     "name": "#%%\n"
    }
   }
  },
  {
   "cell_type": "code",
   "execution_count": 3,
   "outputs": [],
   "source": [
    "import sys\n",
    "import os\n",
    "sys.path.append(os.getcwd())"
   ],
   "metadata": {
    "collapsed": false,
    "pycharm": {
     "name": "#%%\n"
    }
   }
  },
  {
   "cell_type": "code",
   "execution_count": 4,
   "outputs": [],
   "source": [
    "from utils import generate_test_data, run_assertions"
   ],
   "metadata": {
    "collapsed": false,
    "pycharm": {
     "name": "#%%\n"
    }
   }
  },
  {
   "cell_type": "code",
   "execution_count": 5,
   "outputs": [],
   "source": [
    "X, Y, P, kp_literal, ks_literal, kd_literal, kp_optimised, ks_optimised, kd_optimised = generate_test_data()"
   ],
   "metadata": {
    "collapsed": false,
    "pycharm": {
     "name": "#%%\n"
    }
   }
  },
  {
   "cell_type": "code",
   "execution_count": 6,
   "outputs": [],
   "source": [
    "literal1 = kp_literal @ ks_literal\n",
    "literal2 = kd_literal @ ks_literal / 2\n",
    "literal3 = 2.5 * kp_literal @ ks_literal / 3 + kd_literal\n",
    "\n",
    "optimised1 = kp_optimised @ ks_optimised\n",
    "optimised2 = kd_optimised @ ks_optimised / 2\n",
    "optimised3 = 2.5 * kp_optimised @ ks_optimised / 3 + kd_optimised"
   ],
   "metadata": {
    "collapsed": false,
    "pycharm": {
     "name": "#%%\n"
    }
   }
  },
  {
   "cell_type": "code",
   "execution_count": 14,
   "outputs": [
    {
     "ename": "AssertionError",
     "evalue": "Input was expected to have shape (3, 4, 5, 6) but it has shape (6, 5, 4, 3)",
     "output_type": "error",
     "traceback": [
      "\u001B[0;31m---------------------------------------------------------------------------\u001B[0m",
      "\u001B[0;31mAssertionError\u001B[0m                            Traceback (most recent call last)",
      "Input \u001B[0;32mIn [14]\u001B[0m, in \u001B[0;36m<cell line: 1>\u001B[0;34m()\u001B[0m\n\u001B[0;32m----> 1\u001B[0m (\u001B[43mX\u001B[49m\u001B[43m \u001B[49m\u001B[38;5;241;43m@\u001B[39;49m\u001B[43m \u001B[49m\u001B[43mkp_optimised\u001B[49m)\u001B[38;5;241m.\u001B[39mshape\n",
      "File \u001B[0;32m~/Dropbox/Ed/Documents/PhD/Thesis/Code/pykronecker/src/pykronecker/base.py:230\u001B[0m, in \u001B[0;36mKroneckerOperator.__array_ufunc__\u001B[0;34m(self, method, *inputs, **kwargs)\u001B[0m\n\u001B[1;32m    227\u001B[0m         \u001B[38;5;28;01mreturn\u001B[39;00m \u001B[38;5;28mself\u001B[39m\u001B[38;5;241m.\u001B[39m\u001B[38;5;21m__matmul__\u001B[39m(B)\n\u001B[1;32m    229\u001B[0m     \u001B[38;5;28;01mif\u001B[39;00m B \u001B[38;5;129;01mis\u001B[39;00m \u001B[38;5;28mself\u001B[39m:\n\u001B[0;32m--> 230\u001B[0m         \u001B[38;5;28;01mreturn\u001B[39;00m \u001B[38;5;28;43mself\u001B[39;49m\u001B[38;5;241;43m.\u001B[39;49m\u001B[38;5;21;43m__rmatmul__\u001B[39;49m\u001B[43m(\u001B[49m\u001B[43mA\u001B[49m\u001B[43m)\u001B[49m\n\u001B[1;32m    232\u001B[0m \u001B[38;5;28;01melif\u001B[39;00m method \u001B[38;5;129;01mis\u001B[39;00m np\u001B[38;5;241m.\u001B[39mmultiply:\n\u001B[1;32m    234\u001B[0m     \u001B[38;5;28;01mif\u001B[39;00m A \u001B[38;5;129;01mis\u001B[39;00m \u001B[38;5;28mself\u001B[39m:\n",
      "File \u001B[0;32m~/Dropbox/Ed/Documents/PhD/Thesis/Code/pykronecker/src/pykronecker/base.py:185\u001B[0m, in \u001B[0;36mKroneckerOperator.__rmatmul__\u001B[0;34m(self, other)\u001B[0m\n\u001B[1;32m    181\u001B[0m \u001B[38;5;28;01mdef\u001B[39;00m \u001B[38;5;21m__rmatmul__\u001B[39m(\u001B[38;5;28mself\u001B[39m, other: Union[\u001B[38;5;124m'\u001B[39m\u001B[38;5;124mKroneckerOperator\u001B[39m\u001B[38;5;124m'\u001B[39m, ndarray]) \u001B[38;5;241m-\u001B[39m\u001B[38;5;241m>\u001B[39m Union[\u001B[38;5;124m'\u001B[39m\u001B[38;5;124mKroneckerOperator\u001B[39m\u001B[38;5;124m'\u001B[39m, ndarray]:\n\u001B[1;32m    182\u001B[0m     \u001B[38;5;124;03m\"\"\"\u001B[39;00m\n\u001B[1;32m    183\u001B[0m \u001B[38;5;124;03m    Define reverve matrix multiplication in terms of transposes\u001B[39;00m\n\u001B[1;32m    184\u001B[0m \u001B[38;5;124;03m    \"\"\"\u001B[39;00m\n\u001B[0;32m--> 185\u001B[0m     \u001B[38;5;28;01mreturn\u001B[39;00m (\u001B[38;5;28;43mself\u001B[39;49m\u001B[38;5;241;43m.\u001B[39;49m\u001B[43mT\u001B[49m\u001B[43m \u001B[49m\u001B[38;5;241;43m@\u001B[39;49m\u001B[43m \u001B[49m\u001B[43mother\u001B[49m\u001B[38;5;241;43m.\u001B[39;49m\u001B[43mT\u001B[49m)\u001B[38;5;241m.\u001B[39mT\n",
      "File \u001B[0;32m~/Dropbox/Ed/Documents/PhD/Thesis/Code/pykronecker/src/pykronecker/operators.py:68\u001B[0m, in \u001B[0;36mKroneckerProduct.__matmul__\u001B[0;34m(self, other)\u001B[0m\n\u001B[1;32m     64\u001B[0m     \u001B[38;5;28;01mreturn\u001B[39;00m \u001B[38;5;28mself\u001B[39m\u001B[38;5;241m.\u001B[39mfactor \u001B[38;5;241m*\u001B[39m other\u001B[38;5;241m.\u001B[39mfactor \u001B[38;5;241m*\u001B[39m KroneckerProduct([A1 \u001B[38;5;241m@\u001B[39m A2 \u001B[38;5;28;01mfor\u001B[39;00m A1, A2 \u001B[38;5;129;01min\u001B[39;00m \u001B[38;5;28mzip\u001B[39m(\u001B[38;5;28mself\u001B[39m\u001B[38;5;241m.\u001B[39mAs, other\u001B[38;5;241m.\u001B[39mAs)])\n\u001B[1;32m     66\u001B[0m \u001B[38;5;66;03m# otherwise default to creating an OperatorChain\u001B[39;00m\n\u001B[1;32m     67\u001B[0m \u001B[38;5;28;01melse\u001B[39;00m:\n\u001B[0;32m---> 68\u001B[0m     \u001B[38;5;28;01mreturn\u001B[39;00m \u001B[38;5;28;43msuper\u001B[39;49m\u001B[43m(\u001B[49m\u001B[43m)\u001B[49m\u001B[38;5;241;43m.\u001B[39;49m\u001B[38;5;21;43m__matmul__\u001B[39;49m\u001B[43m(\u001B[49m\u001B[43mother\u001B[49m\u001B[43m)\u001B[49m\n",
      "File \u001B[0;32m~/Dropbox/Ed/Documents/PhD/Thesis/Code/pykronecker/src/pykronecker/base.py:173\u001B[0m, in \u001B[0;36mKroneckerOperator.__matmul__\u001B[0;34m(self, other)\u001B[0m\n\u001B[1;32m    170\u001B[0m \u001B[38;5;28;01mfrom\u001B[39;00m \u001B[38;5;21;01mpykronecker\u001B[39;00m\u001B[38;5;21;01m.\u001B[39;00m\u001B[38;5;21;01mcomposite\u001B[39;00m \u001B[38;5;28;01mimport\u001B[39;00m OperatorProduct\n\u001B[1;32m    172\u001B[0m \u001B[38;5;28;01mif\u001B[39;00m \u001B[38;5;28misinstance\u001B[39m(other, ndarray):\n\u001B[0;32m--> 173\u001B[0m     \u001B[38;5;28;01mreturn\u001B[39;00m \u001B[38;5;28;43mself\u001B[39;49m\u001B[38;5;241;43m.\u001B[39;49m\u001B[43moperate\u001B[49m\u001B[43m(\u001B[49m\u001B[43mother\u001B[49m\u001B[43m)\u001B[49m\n\u001B[1;32m    175\u001B[0m \u001B[38;5;28;01melif\u001B[39;00m \u001B[38;5;28misinstance\u001B[39m(other, KroneckerOperator):\n\u001B[1;32m    176\u001B[0m     \u001B[38;5;28;01mreturn\u001B[39;00m OperatorProduct(\u001B[38;5;28mself\u001B[39m, other)\n",
      "File \u001B[0;32m~/Dropbox/Ed/Documents/PhD/Thesis/Code/pykronecker/src/pykronecker/operators.py:104\u001B[0m, in \u001B[0;36mKroneckerProduct.operate\u001B[0;34m(self, other)\u001B[0m\n\u001B[1;32m    100\u001B[0m     \u001B[38;5;28;01mreturn\u001B[39;00m \u001B[38;5;28mself\u001B[39m\u001B[38;5;241m.\u001B[39mfactor \u001B[38;5;241m*\u001B[39m out\n\u001B[1;32m    102\u001B[0m \u001B[38;5;66;03m# handle when other is a tensor\u001B[39;00m\n\u001B[1;32m    103\u001B[0m \u001B[38;5;28;01melse\u001B[39;00m:\n\u001B[0;32m--> 104\u001B[0m     \u001B[38;5;28;01mreturn\u001B[39;00m \u001B[38;5;28mself\u001B[39m\u001B[38;5;241m.\u001B[39mfactor \u001B[38;5;241m*\u001B[39m \u001B[43mmultiply_tensor_product\u001B[49m\u001B[43m(\u001B[49m\u001B[38;5;28;43mself\u001B[39;49m\u001B[38;5;241;43m.\u001B[39;49m\u001B[43mAs\u001B[49m\u001B[43m,\u001B[49m\u001B[43m \u001B[49m\u001B[43mother\u001B[49m\u001B[43m)\u001B[49m\n",
      "File \u001B[0;32m~/Dropbox/Ed/Documents/PhD/Thesis/Code/pykronecker/src/pykronecker/utils.py:16\u001B[0m, in \u001B[0;36mmultiply_tensor_product\u001B[0;34m(As, X)\u001B[0m\n\u001B[1;32m      5\u001B[0m \u001B[38;5;124;03m\"\"\"\u001B[39;00m\n\u001B[1;32m      6\u001B[0m \u001B[38;5;124;03mOptimised routine to compute the result of Ten((A1 ⊗ A2 ⊗ ... ⊗ AN) vec(X))\u001B[39;00m\n\u001B[1;32m      7\u001B[0m \n\u001B[0;32m   (...)\u001B[0m\n\u001B[1;32m     12\u001B[0m \u001B[38;5;124;03mX_ = tensor_product([A1, A2, A3], X)\u001B[39;00m\n\u001B[1;32m     13\u001B[0m \u001B[38;5;124;03m\"\"\"\u001B[39;00m\n\u001B[1;32m     15\u001B[0m \u001B[38;5;28;01massert\u001B[39;00m X\u001B[38;5;241m.\u001B[39mndim \u001B[38;5;241m==\u001B[39m \u001B[38;5;28mlen\u001B[39m(As), \u001B[38;5;124mf\u001B[39m\u001B[38;5;124m'\u001B[39m\u001B[38;5;124mInput was expected to be \u001B[39m\u001B[38;5;132;01m{\u001B[39;00m\u001B[38;5;28mlen\u001B[39m(As)\u001B[38;5;132;01m}\u001B[39;00m\u001B[38;5;124m-dimensional, but it was \u001B[39m\u001B[38;5;132;01m{\u001B[39;00mX\u001B[38;5;241m.\u001B[39mndim\u001B[38;5;132;01m}\u001B[39;00m\u001B[38;5;124m-dimensional\u001B[39m\u001B[38;5;124m'\u001B[39m\n\u001B[0;32m---> 16\u001B[0m \u001B[38;5;28;01massert\u001B[39;00m \u001B[38;5;28mall\u001B[39m(A\u001B[38;5;241m.\u001B[39mshape \u001B[38;5;241m==\u001B[39m (s, s) \u001B[38;5;28;01mfor\u001B[39;00m A, s \u001B[38;5;129;01min\u001B[39;00m \u001B[38;5;28mzip\u001B[39m(As, \u001B[38;5;28mreversed\u001B[39m(X\u001B[38;5;241m.\u001B[39mshape))), \u001B[38;5;124mf\u001B[39m\u001B[38;5;124m'\u001B[39m\u001B[38;5;124mInput was expected to have shape \u001B[39m\u001B[38;5;132;01m{\u001B[39;00m\u001B[38;5;28mtuple\u001B[39m(A\u001B[38;5;241m.\u001B[39mshape[\u001B[38;5;241m0\u001B[39m] \u001B[38;5;28;01mfor\u001B[39;00m A \u001B[38;5;129;01min\u001B[39;00m As[::\u001B[38;5;241m-\u001B[39m\u001B[38;5;241m1\u001B[39m])\u001B[38;5;132;01m}\u001B[39;00m\u001B[38;5;124m but it has shape \u001B[39m\u001B[38;5;132;01m{\u001B[39;00mX\u001B[38;5;241m.\u001B[39mshape\u001B[38;5;132;01m}\u001B[39;00m\u001B[38;5;124m'\u001B[39m\n\u001B[1;32m     18\u001B[0m ans \u001B[38;5;241m=\u001B[39m X\n\u001B[1;32m     20\u001B[0m \u001B[38;5;28;01mfor\u001B[39;00m i, A \u001B[38;5;129;01min\u001B[39;00m \u001B[38;5;28menumerate\u001B[39m(\u001B[38;5;28mreversed\u001B[39m(As)):\n",
      "\u001B[0;31mAssertionError\u001B[0m: Input was expected to have shape (3, 4, 5, 6) but it has shape (6, 5, 4, 3)"
     ]
    }
   ],
   "source": [
    "(X @ kp_optimised).shape"
   ],
   "metadata": {
    "collapsed": false,
    "pycharm": {
     "name": "#%%\n"
    }
   }
  },
  {
   "cell_type": "code",
   "execution_count": 22,
   "outputs": [
    {
     "data": {
      "text/plain": "array([[1., 1., 1., 1., 1., ..., 1., 1., 1., 1., 1.],\n       [1., 1., 1., 1., 1., ..., 1., 1., 1., 1., 1.],\n       [1., 1., 1., 1., 1., ..., 1., 1., 1., 1., 1.],\n       [1., 1., 1., 1., 1., ..., 1., 1., 1., 1., 1.],\n       [1., 1., 1., 1., 1., ..., 1., 1., 1., 1., 1.],\n       ...,\n       [1., 1., 1., 1., 1., ..., 1., 1., 1., 1., 1.],\n       [1., 1., 1., 1., 1., ..., 1., 1., 1., 1., 1.],\n       [1., 1., 1., 1., 1., ..., 1., 1., 1., 1., 1.],\n       [1., 1., 1., 1., 1., ..., 1., 1., 1., 1., 1.],\n       [1., 1., 1., 1., 1., ..., 1., 1., 1., 1., 1.]])"
     },
     "execution_count": 22,
     "metadata": {},
     "output_type": "execute_result"
    }
   ],
   "source": [
    "kd_literal ** 0"
   ],
   "metadata": {
    "collapsed": false,
    "pycharm": {
     "name": "#%%\n"
    }
   }
  },
  {
   "cell_type": "code",
   "execution_count": 23,
   "outputs": [
    {
     "data": {
      "text/plain": "array([[1., 0., 0., 0., 0., ..., 0., 0., 0., 0., 0.],\n       [0., 1., 0., 0., 0., ..., 0., 0., 0., 0., 0.],\n       [0., 0., 1., 0., 0., ..., 0., 0., 0., 0., 0.],\n       [0., 0., 0., 1., 0., ..., 0., 0., 0., 0., 0.],\n       [0., 0., 0., 0., 1., ..., 0., 0., 0., 0., 0.],\n       ...,\n       [0., 0., 0., 0., 0., ..., 1., 0., 0., 0., 0.],\n       [0., 0., 0., 0., 0., ..., 0., 1., 0., 0., 0.],\n       [0., 0., 0., 0., 0., ..., 0., 0., 1., 0., 0.],\n       [0., 0., 0., 0., 0., ..., 0., 0., 0., 1., 0.],\n       [0., 0., 0., 0., 0., ..., 0., 0., 0., 0., 1.]])"
     },
     "execution_count": 23,
     "metadata": {},
     "output_type": "execute_result"
    }
   ],
   "source": [
    "(kd_optimised ** 0).to_array()"
   ],
   "metadata": {
    "collapsed": false,
    "pycharm": {
     "name": "#%%\n"
    }
   }
  },
  {
   "cell_type": "code",
   "execution_count": null,
   "outputs": [],
   "source": [],
   "metadata": {
    "collapsed": false,
    "pycharm": {
     "name": "#%%\n"
    }
   }
  }
 ],
 "metadata": {
  "kernelspec": {
   "display_name": "Python 3",
   "language": "python",
   "name": "python3"
  },
  "language_info": {
   "codemirror_mode": {
    "name": "ipython",
    "version": 2
   },
   "file_extension": ".py",
   "mimetype": "text/x-python",
   "name": "python",
   "nbconvert_exporter": "python",
   "pygments_lexer": "ipython2",
   "version": "2.7.6"
  }
 },
 "nbformat": 4,
 "nbformat_minor": 0
}